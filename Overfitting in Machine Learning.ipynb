{
 "cells": [
  {
   "cell_type": "code",
   "execution_count": 2,
   "id": "15c1085e",
   "metadata": {},
   "outputs": [],
   "source": [
    "#Import Libraries\n",
    "import numpy as np\n",
    "import pandas as pd\n",
    "from sklearn.model_selection import train_test_split\n",
    "from sklearn import preprocessing\n",
    "from sklearn.ensemble import RandomForestRegressor\n",
    "from sklearn.pipeline import make_pipeline\n",
    "from sklearn.model_selection import GridSearchCV\n",
    "from sklearn.metrics import mean_squared_error, r2_score\n",
    "import joblib"
   ]
  },
  {
   "cell_type": "code",
   "execution_count": 3,
   "id": "fd48a4e6",
   "metadata": {},
   "outputs": [],
   "source": [
    "#Load red wine data\n",
    "dataset_url = 'https://archive.ics.uci.edu/ml/machine-learning-databases/wine-quality/winequality-red.csv'\n",
    "data = pd.read_csv(dataset_url)"
   ]
  },
  {
   "cell_type": "code",
   "execution_count": 4,
   "id": "36647156",
   "metadata": {},
   "outputs": [
    {
     "name": "stdout",
     "output_type": "stream",
     "text": [
      "  fixed acidity;\"volatile acidity\";\"citric acid\";\"residual sugar\";\"chlorides\";\"free sulfur dioxide\";\"total sulfur dioxide\";\"density\";\"pH\";\"sulphates\";\"alcohol\";\"quality\"\n",
      "0   7.4;0.7;0;1.9;0.076;11;34;0.9978;3.51;0.56;9.4;5                                                                                                                     \n",
      "1   7.8;0.88;0;2.6;0.098;25;67;0.9968;3.2;0.68;9.8;5                                                                                                                     \n",
      "2  7.8;0.76;0.04;2.3;0.092;15;54;0.997;3.26;0.65;...                                                                                                                     \n",
      "3  11.2;0.28;0.56;1.9;0.075;17;60;0.998;3.16;0.58...                                                                                                                     \n",
      "4   7.4;0.7;0;1.9;0.076;11;34;0.9978;3.51;0.56;9.4;5                                                                                                                     \n"
     ]
    }
   ],
   "source": [
    "#Read first rows\n",
    "print( data.head() )"
   ]
  },
  {
   "cell_type": "code",
   "execution_count": 5,
   "id": "1a02a5d9",
   "metadata": {},
   "outputs": [
    {
     "name": "stdout",
     "output_type": "stream",
     "text": [
      "   fixed acidity  volatile acidity  citric acid  residual sugar  chlorides  \\\n",
      "0            7.4              0.70         0.00             1.9      0.076   \n",
      "1            7.8              0.88         0.00             2.6      0.098   \n",
      "2            7.8              0.76         0.04             2.3      0.092   \n",
      "3           11.2              0.28         0.56             1.9      0.075   \n",
      "4            7.4              0.70         0.00             1.9      0.076   \n",
      "\n",
      "   free sulfur dioxide  total sulfur dioxide  density    pH  sulphates  \\\n",
      "0                 11.0                  34.0   0.9978  3.51       0.56   \n",
      "1                 25.0                  67.0   0.9968  3.20       0.68   \n",
      "2                 15.0                  54.0   0.9970  3.26       0.65   \n",
      "3                 17.0                  60.0   0.9980  3.16       0.58   \n",
      "4                 11.0                  34.0   0.9978  3.51       0.56   \n",
      "\n",
      "   alcohol  quality  \n",
      "0      9.4        5  \n",
      "1      9.8        5  \n",
      "2      9.8        5  \n",
      "3      9.8        6  \n",
      "4      9.4        5  \n"
     ]
    }
   ],
   "source": [
    "#Separate data by colons\n",
    "data = pd.read_csv(dataset_url, sep=';')\n",
    "print( data.head() )"
   ]
  },
  {
   "cell_type": "code",
   "execution_count": 6,
   "id": "fd921d77",
   "metadata": {},
   "outputs": [
    {
     "name": "stdout",
     "output_type": "stream",
     "text": [
      "(1599, 12)\n"
     ]
    }
   ],
   "source": [
    "print( data.shape )"
   ]
  },
  {
   "cell_type": "code",
   "execution_count": 8,
   "id": "445eadad",
   "metadata": {},
   "outputs": [
    {
     "name": "stdout",
     "output_type": "stream",
     "text": [
      "       fixed acidity  volatile acidity  citric acid  residual sugar  \\\n",
      "count    1599.000000       1599.000000  1599.000000     1599.000000   \n",
      "mean        8.319637          0.527821     0.270976        2.538806   \n",
      "std         1.741096          0.179060     0.194801        1.409928   \n",
      "min         4.600000          0.120000     0.000000        0.900000   \n",
      "25%         7.100000          0.390000     0.090000        1.900000   \n",
      "50%         7.900000          0.520000     0.260000        2.200000   \n",
      "75%         9.200000          0.640000     0.420000        2.600000   \n",
      "max        15.900000          1.580000     1.000000       15.500000   \n",
      "\n",
      "         chlorides  free sulfur dioxide  total sulfur dioxide      density  \\\n",
      "count  1599.000000          1599.000000           1599.000000  1599.000000   \n",
      "mean      0.087467            15.874922             46.467792     0.996747   \n",
      "std       0.047065            10.460157             32.895324     0.001887   \n",
      "min       0.012000             1.000000              6.000000     0.990070   \n",
      "25%       0.070000             7.000000             22.000000     0.995600   \n",
      "50%       0.079000            14.000000             38.000000     0.996750   \n",
      "75%       0.090000            21.000000             62.000000     0.997835   \n",
      "max       0.611000            72.000000            289.000000     1.003690   \n",
      "\n",
      "                pH    sulphates      alcohol      quality  \n",
      "count  1599.000000  1599.000000  1599.000000  1599.000000  \n",
      "mean      3.311113     0.658149    10.422983     5.636023  \n",
      "std       0.154386     0.169507     1.065668     0.807569  \n",
      "min       2.740000     0.330000     8.400000     3.000000  \n",
      "25%       3.210000     0.550000     9.500000     5.000000  \n",
      "50%       3.310000     0.620000    10.200000     6.000000  \n",
      "75%       3.400000     0.730000    11.100000     6.000000  \n",
      "max       4.010000     2.000000    14.900000     8.000000  \n"
     ]
    }
   ],
   "source": [
    "#List of all features\n",
    "print( data.describe() )"
   ]
  },
  {
   "cell_type": "code",
   "execution_count": 14,
   "id": "3656da86",
   "metadata": {},
   "outputs": [],
   "source": [
    "#Here is the list of all the features:\n",
    "#quality (target)\n",
    "#fixed-acidity\n",
    "#volatile-acidity\n",
    "#citric-acid\n",
    "#residual-sugar\n",
    "#chlorides\n",
    "#free sulfur dioxide\n",
    "#total sulfur dioxide\n",
    "##density\n",
    "#pH\n",
    "#sulphates\n",
    "#alcohol"
   ]
  },
  {
   "cell_type": "code",
   "execution_count": 16,
   "id": "3f2c7121",
   "metadata": {},
   "outputs": [],
   "source": [
    "# Split data into training and test sets.\n",
    "y = data.quality\n",
    "X = data.drop('quality', axis=1)"
   ]
  },
  {
   "cell_type": "code",
   "execution_count": 17,
   "id": "49a32265",
   "metadata": {},
   "outputs": [],
   "source": [
    "X_train, X_test, y_train, y_test = train_test_split(X, y, \n",
    "                                                    test_size=0.2, \n",
    "                                                    random_state=123, \n",
    "                                                    stratify=y)"
   ]
  },
  {
   "cell_type": "code",
   "execution_count": 18,
   "id": "c9b2bb14",
   "metadata": {},
   "outputs": [
    {
     "name": "stdout",
     "output_type": "stream",
     "text": [
      "[[ 0.51358886  2.19680282 -0.164433   ...  1.08415147 -0.69866131\n",
      "  -0.58608178]\n",
      " [-1.73698885 -0.31792985 -0.82867679 ...  1.46964764  1.2491516\n",
      "   2.97009781]\n",
      " [-0.35201795  0.46443143 -0.47100705 ... -0.13658641 -0.35492962\n",
      "  -0.20843439]\n",
      " ...\n",
      " [-0.98679628  1.10708533 -0.93086814 ...  0.24890976 -0.98510439\n",
      "   0.35803669]\n",
      " [-0.69826067  0.46443143 -1.28853787 ...  1.08415147 -0.35492962\n",
      "  -0.68049363]\n",
      " [ 3.1104093  -0.62528606  2.08377675 ... -1.61432173  0.79084268\n",
      "  -0.39725809]]\n"
     ]
    }
   ],
   "source": [
    "#Declare data preprocessing steps.\n",
    "X_train_scaled = preprocessing.scale(X_train)\n",
    "print( X_train_scaled )"
   ]
  },
  {
   "cell_type": "code",
   "execution_count": 19,
   "id": "0de36a83",
   "metadata": {},
   "outputs": [
    {
     "name": "stdout",
     "output_type": "stream",
     "text": [
      "[ 1.16664562e-16 -3.05550043e-17 -8.47206937e-17 -2.22218213e-17\n",
      "  2.77772766e-18 -6.38877362e-17 -4.16659149e-18 -1.20753377e-13\n",
      " -8.70817622e-16 -4.08325966e-16 -1.16664562e-15]\n",
      "[1. 1. 1. 1. 1. 1. 1. 1. 1. 1. 1.]\n"
     ]
    }
   ],
   "source": [
    "print( X_train_scaled.mean(axis=0) )\n",
    "print( X_train_scaled.std(axis=0) )"
   ]
  },
  {
   "cell_type": "code",
   "execution_count": 20,
   "id": "2388c006",
   "metadata": {},
   "outputs": [],
   "source": [
    "#Now, the scaler object has the saved means and standard deviations for each feature in the training set.\n",
    "scaler = preprocessing.StandardScaler().fit(X_train)"
   ]
  },
  {
   "cell_type": "code",
   "execution_count": 24,
   "id": "60745859",
   "metadata": {},
   "outputs": [],
   "source": [
    "X_train_scaled = scaler.transform(X_train)"
   ]
  },
  {
   "cell_type": "code",
   "execution_count": 27,
   "id": "6b8a002f",
   "metadata": {},
   "outputs": [
    {
     "name": "stdout",
     "output_type": "stream",
     "text": [
      "[ 1.16664562e-16 -3.05550043e-17 -8.47206937e-17 -2.22218213e-17\n",
      "  2.77772766e-18 -6.38877362e-17 -4.16659149e-18 -1.20753377e-13\n",
      " -8.70817622e-16 -4.08325966e-16 -1.16664562e-15]\n",
      "[1. 1. 1. 1. 1. 1. 1. 1. 1. 1. 1.]\n"
     ]
    }
   ],
   "source": [
    "print(X_train_scaled.mean(axis=0))\n",
    "print(X_train_scaled.std(axis=0))"
   ]
  },
  {
   "cell_type": "code",
   "execution_count": 30,
   "id": "dc611aab",
   "metadata": {},
   "outputs": [
    {
     "name": "stdout",
     "output_type": "stream",
     "text": [
      "[ 0.02776704  0.02592492 -0.03078587 -0.03137977 -0.00471876 -0.04413827\n",
      " -0.02414174 -0.00293273 -0.00467444 -0.10894663  0.01043391]\n",
      "[1.02160495 1.00135689 0.97456598 0.91099054 0.86716698 0.94193125\n",
      " 1.03673213 1.03145119 0.95734849 0.83829505 1.0286218 ]\n"
     ]
    }
   ],
   "source": [
    "#Note how we’re taking the scaler object and using it to transform the training set. Later, we can transform the test set using the exact same means and standard deviations used to transform the training set:\n",
    "X_test_scaled = scaler.transform(X_test)\n",
    "print (X_test_scaled.mean(axis=0))\n",
    "print (X_test_scaled.std(axis=0))"
   ]
  },
  {
   "cell_type": "code",
   "execution_count": 31,
   "id": "6ff68d51",
   "metadata": {},
   "outputs": [],
   "source": [
    "pipeline = make_pipeline(preprocessing.StandardScaler(),\n",
    "                         RandomForestRegressor(n_estimators=100,\n",
    "                                               random_state=123))"
   ]
  },
  {
   "cell_type": "code",
   "execution_count": 34,
   "id": "fd244939",
   "metadata": {},
   "outputs": [],
   "source": [
    "#This is exactly what it looks like: a modeling pipeline that first transforms the data using StandardScaler() and then fits a model using a random forest regressor. Again, the random_state= parameter can be any number you choose. It’s simply setting the seed so that you get consistent results each time you run the code."
   ]
  },
  {
   "cell_type": "code",
   "execution_count": 35,
   "id": "68ef79bf",
   "metadata": {},
   "outputs": [
    {
     "name": "stdout",
     "output_type": "stream",
     "text": [
      "{'memory': None, 'steps': [('standardscaler', StandardScaler()), ('randomforestregressor', RandomForestRegressor(random_state=123))], 'verbose': False, 'standardscaler': StandardScaler(), 'randomforestregressor': RandomForestRegressor(random_state=123), 'standardscaler__copy': True, 'standardscaler__with_mean': True, 'standardscaler__with_std': True, 'randomforestregressor__bootstrap': True, 'randomforestregressor__ccp_alpha': 0.0, 'randomforestregressor__criterion': 'mse', 'randomforestregressor__max_depth': None, 'randomforestregressor__max_features': 'auto', 'randomforestregressor__max_leaf_nodes': None, 'randomforestregressor__max_samples': None, 'randomforestregressor__min_impurity_decrease': 0.0, 'randomforestregressor__min_impurity_split': None, 'randomforestregressor__min_samples_leaf': 1, 'randomforestregressor__min_samples_split': 2, 'randomforestregressor__min_weight_fraction_leaf': 0.0, 'randomforestregressor__n_estimators': 100, 'randomforestregressor__n_jobs': None, 'randomforestregressor__oob_score': False, 'randomforestregressor__random_state': 123, 'randomforestregressor__verbose': 0, 'randomforestregressor__warm_start': False}\n"
     ]
    }
   ],
   "source": [
    "#Declare hyperparameters to tune.\n",
    "print( pipeline.get_params() )"
   ]
  },
  {
   "cell_type": "code",
   "execution_count": 36,
   "id": "88553a4e",
   "metadata": {},
   "outputs": [],
   "source": [
    "hyperparameters = { 'randomforestregressor__max_features' : ['auto', 'sqrt', 'log2'],\n",
    "                  'randomforestregressor__max_depth': [None, 5, 3, 1]}"
   ]
  },
  {
   "cell_type": "code",
   "execution_count": 37,
   "id": "f92ac3d4",
   "metadata": {},
   "outputs": [],
   "source": [
    "#Tune model using a cross-validation pipeline.\n",
    "#Here’s how the CV pipeline looks after including preprocessing steps:\n",
    "\n",
    "#Split your data into k equal parts, or “folds” (typically k=10).\n",
    "#Preprocess k-1 training folds.\n",
    "#Train your model on the same k-1 folds.\n",
    "#Preprocess the hold-out fold using the same transformations from step (2).\n",
    "#Evaluate your model on the same hold-out fold.\n",
    "#Perform steps (2) – (5) k times, each time holding out a different fold.\n",
    "#Aggregate the performance across all k folds. This is your performance metric.\n",
    "#Fortunately, Scikit-Learn makes it stupidly simple to set this up:"
   ]
  },
  {
   "cell_type": "code",
   "execution_count": 38,
   "id": "ad4aa7af",
   "metadata": {},
   "outputs": [
    {
     "data": {
      "text/plain": [
       "GridSearchCV(cv=10,\n",
       "             estimator=Pipeline(steps=[('standardscaler', StandardScaler()),\n",
       "                                       ('randomforestregressor',\n",
       "                                        RandomForestRegressor(random_state=123))]),\n",
       "             param_grid={'randomforestregressor__max_depth': [None, 5, 3, 1],\n",
       "                         'randomforestregressor__max_features': ['auto', 'sqrt',\n",
       "                                                                 'log2']})"
      ]
     },
     "execution_count": 38,
     "metadata": {},
     "output_type": "execute_result"
    }
   ],
   "source": [
    "clf = GridSearchCV(pipeline, hyperparameters, cv=10)\n",
    " \n",
    "# Fit and tune model\n",
    "clf.fit(X_train, y_train)"
   ]
  },
  {
   "cell_type": "code",
   "execution_count": 39,
   "id": "440157e8",
   "metadata": {},
   "outputs": [
    {
     "name": "stdout",
     "output_type": "stream",
     "text": [
      "{'randomforestregressor__max_depth': None, 'randomforestregressor__max_features': 'sqrt'}\n"
     ]
    }
   ],
   "source": [
    "#Now, you can see the best set of parameters found using CV:\n",
    "print( clf.best_params_ )"
   ]
  },
  {
   "cell_type": "code",
   "execution_count": 40,
   "id": "ba22141f",
   "metadata": {},
   "outputs": [
    {
     "name": "stdout",
     "output_type": "stream",
     "text": [
      "True\n"
     ]
    }
   ],
   "source": [
    "#Refit on the entire training set\n",
    "#Conveniently, GridSearchCV from sklearn will automatically refit the model with the best set of hyperparameters using the entire training set.\n",
    "#This functionality is ON by default, but you can confirm it:\n",
    "\n",
    "print( clf.refit )"
   ]
  },
  {
   "cell_type": "code",
   "execution_count": 41,
   "id": "883d93c3",
   "metadata": {},
   "outputs": [
    {
     "name": "stdout",
     "output_type": "stream",
     "text": [
      "0.4712595193413647\n",
      "0.34118218749999996\n"
     ]
    }
   ],
   "source": [
    "#Evaluate model pipeline on test data.\n",
    "#Here’s how to predict a new set of data:\n",
    "y_pred = clf.predict(X_test)\n",
    "#Now we can use the metrics we imported earlier to evaluate our model performance.\n",
    "print( r2_score(y_test, y_pred) )\n",
    "print( mean_squared_error(y_test, y_pred) )"
   ]
  },
  {
   "cell_type": "code",
   "execution_count": 42,
   "id": "97f613b7",
   "metadata": {},
   "outputs": [
    {
     "data": {
      "text/plain": [
       "['rf_regressor.pkl']"
      ]
     },
     "execution_count": 42,
     "metadata": {},
     "output_type": "execute_result"
    }
   ],
   "source": [
    "#Save model for future use\n",
    "#But before you go, let’s save your hard work so you can use the model in the future. It’s really easy to do so:\n",
    "joblib.dump(clf, 'rf_regressor.pkl')"
   ]
  },
  {
   "cell_type": "code",
   "execution_count": 43,
   "id": "96894787",
   "metadata": {},
   "outputs": [
    {
     "data": {
      "text/plain": [
       "array([6.44, 5.76, 4.99, 5.63, 6.27, 5.61, 4.89, 4.74, 5.03, 5.83, 5.26,\n",
       "       5.68, 5.85, 5.11, 5.86, 5.6 , 6.52, 5.8 , 5.75, 6.96, 5.42, 5.68,\n",
       "       5.1 , 6.02, 5.95, 5.03, 5.33, 5.22, 6.04, 5.9 , 5.89, 6.48, 6.01,\n",
       "       5.03, 4.95, 5.95, 5.05, 6.1 , 5.15, 6.05, 4.92, 5.92, 6.71, 5.08,\n",
       "       6.23, 5.33, 5.49, 5.53, 5.22, 6.4 , 6.05, 5.25, 5.81, 5.22, 5.6 ,\n",
       "       5.64, 5.38, 5.38, 5.04, 5.12, 5.28, 5.24, 5.03, 5.8 , 6.01, 5.33,\n",
       "       6.43, 5.03, 5.14, 6.64, 5.78, 5.84, 5.09, 5.06, 5.34, 6.01, 5.29,\n",
       "       5.06, 5.21, 5.26, 6.33, 5.66, 6.11, 6.33, 5.09, 5.94, 6.55, 6.3 ,\n",
       "       5.74, 5.71, 5.86, 5.37, 6.3 , 5.69, 5.64, 5.78, 6.68, 6.77, 5.53,\n",
       "       6.78, 5.16, 5.34, 5.1 , 6.49, 5.07, 4.69, 5.61, 5.05, 5.66, 5.9 ,\n",
       "       5.92, 5.47, 6.01, 5.28, 4.92, 5.19, 5.92, 5.13, 5.05, 6.01, 5.87,\n",
       "       5.06, 5.79, 5.99, 5.26, 5.43, 5.28, 5.89, 5.57, 5.45, 5.71, 6.01,\n",
       "       5.2 , 5.33, 5.08, 6.38, 5.  , 5.22, 6.71, 5.4 , 5.13, 5.11, 5.62,\n",
       "       6.04, 5.34, 5.34, 5.07, 6.48, 5.71, 5.12, 5.61, 5.22, 4.91, 5.  ,\n",
       "       5.22, 5.95, 5.43, 5.78, 5.62, 5.37, 5.48, 5.26, 5.23, 5.83, 5.06,\n",
       "       5.94, 5.17, 5.16, 5.55, 5.18, 5.95, 5.12, 5.63, 5.1 , 5.65, 5.43,\n",
       "       5.02, 5.31, 5.58, 5.03, 6.03, 5.51, 5.07, 4.99, 5.16, 6.19, 5.19,\n",
       "       5.65, 5.3 , 4.86, 5.48, 6.62, 5.9 , 5.96, 5.53, 5.16, 5.41, 5.04,\n",
       "       6.41, 4.74, 6.32, 5.01, 5.21, 5.37, 6.79, 6.11, 5.26, 5.23, 5.3 ,\n",
       "       5.94, 5.71, 6.01, 5.98, 6.44, 5.75, 5.97, 5.19, 5.28, 5.6 , 5.15,\n",
       "       5.27, 6.18, 6.21, 5.68, 6.04, 5.75, 5.56, 6.29, 5.41, 5.84, 5.41,\n",
       "       5.53, 6.22, 5.66, 4.93, 4.63, 6.58, 6.51, 6.19, 5.27, 5.32, 5.46,\n",
       "       5.47, 6.27, 5.94, 5.24, 5.19, 5.3 , 5.33, 6.41, 5.18, 5.04, 5.24,\n",
       "       5.15, 5.93, 6.46, 5.63, 5.43, 5.57, 6.43, 5.5 , 6.  , 5.32, 4.92,\n",
       "       5.78, 5.82, 5.8 , 5.53, 5.45, 5.1 , 5.77, 5.6 , 6.46, 6.01, 5.65,\n",
       "       5.02, 5.98, 6.43, 6.06, 5.6 , 5.64, 5.45, 5.38, 6.01, 6.8 , 5.22,\n",
       "       6.51, 5.79, 5.43, 5.43, 5.52, 5.2 , 5.2 , 6.39, 5.86, 5.95, 6.03,\n",
       "       5.91, 5.34, 5.62, 5.61, 6.23, 5.62, 6.82, 6.77, 5.9 , 6.25, 5.06,\n",
       "       5.35, 5.95, 5.33, 5.32, 6.14, 6.48, 6.44, 5.18, 5.64, 5.72, 6.07,\n",
       "       5.65])"
      ]
     },
     "execution_count": 43,
     "metadata": {},
     "output_type": "execute_result"
    }
   ],
   "source": [
    "#And that’s it. When you want to load the model again, simply use this function:\n",
    "clf2 = joblib.load('rf_regressor.pkl')\n",
    " \n",
    "# Predict data set using loaded model\n",
    "clf2.predict(X_test)"
   ]
  },
  {
   "cell_type": "code",
   "execution_count": null,
   "id": "cd7d1e27",
   "metadata": {},
   "outputs": [],
   "source": []
  }
 ],
 "metadata": {
  "kernelspec": {
   "display_name": "Python 3 (ipykernel)",
   "language": "python",
   "name": "python3"
  },
  "language_info": {
   "codemirror_mode": {
    "name": "ipython",
    "version": 3
   },
   "file_extension": ".py",
   "mimetype": "text/x-python",
   "name": "python",
   "nbconvert_exporter": "python",
   "pygments_lexer": "ipython3",
   "version": "3.9.7"
  }
 },
 "nbformat": 4,
 "nbformat_minor": 5
}
